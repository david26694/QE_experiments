{
 "cells": [
  {
   "cell_type": "markdown",
   "metadata": {
    "ExecuteTime": {
     "end_time": "2020-06-01T15:16:39.271608Z",
     "start_time": "2020-06-01T15:16:39.268672Z"
    }
   },
   "source": [
    "#### Libraries"
   ]
  },
  {
   "cell_type": "code",
   "execution_count": 1,
   "metadata": {
    "ExecuteTime": {
     "end_time": "2020-06-13T09:13:30.476684Z",
     "start_time": "2020-06-13T09:13:30.462211Z"
    }
   },
   "outputs": [
    {
     "data": {
      "application/javascript": [
       "utils.load_extension('collapsible_headings/main')\n",
       "utils.load_extension('hide_input/main')\n",
       "utils.load_extension('autosavetime/main')\n",
       "utils.load_extension('execute_time/ExecuteTime')\n",
       "utils.load_extension('code_prettify/code_prettify')\n",
       "utils.load_extension('scroll_down/main')\n",
       "utils.load_extension('jupyter-js-widgets/extension')\n"
      ],
      "text/plain": [
       "<IPython.core.display.Javascript object>"
      ]
     },
     "metadata": {},
     "output_type": "display_data"
    }
   ],
   "source": [
    "%%javascript\n",
    "utils.load_extension('collapsible_headings/main')\n",
    "utils.load_extension('hide_input/main')\n",
    "utils.load_extension('autosavetime/main')\n",
    "utils.load_extension('execute_time/ExecuteTime')\n",
    "utils.load_extension('code_prettify/code_prettify')\n",
    "utils.load_extension('scroll_down/main')\n",
    "utils.load_extension('jupyter-js-widgets/extension')"
   ]
  },
  {
   "cell_type": "code",
   "execution_count": 2,
   "metadata": {
    "ExecuteTime": {
     "end_time": "2020-06-13T09:13:32.393252Z",
     "start_time": "2020-06-13T09:13:30.479347Z"
    }
   },
   "outputs": [
    {
     "name": "stderr",
     "output_type": "stream",
     "text": [
      "/Users/cmougan/anaconda3/lib/python3.6/site-packages/lightgbm/__init__.py:46: UserWarning: Starting from version 2.2.1, the library file in distribution wheels for macOS is built by the Apple Clang (Xcode_8.3.1) compiler.\n",
      "This means that in case of installing LightGBM from PyPI via the ``pip install lightgbm`` command, you don't need to install the gcc compiler anymore.\n",
      "Instead of that, you need to install the OpenMP library, which is required for running LightGBM on the system with the Apple Clang compiler.\n",
      "You can install the OpenMP library by the following command: ``brew install libomp``.\n",
      "  \"You can install the OpenMP library by the following command: ``brew install libomp``.\", UserWarning)\n"
     ]
    }
   ],
   "source": [
    "from sklearn import *\n",
    "import sklearn\n",
    "import time\n",
    "from sklearn.base import BaseEstimator, TransformerMixin\n",
    "import numpy as np\n",
    "import pandas as pd\n",
    "pd.set_option('max_columns', None)\n",
    "import joblib\n",
    "from sklearn.metrics import mean_absolute_error,mean_squared_error\n",
    "from sklearn import pipeline\n",
    "from sklearn.pipeline import Pipeline\n",
    "from sklearn.model_selection import GridSearchCV\n",
    "from sklearn.ensemble import BaggingRegressor, BraggingRegressor\n",
    "from sklearn.tree import DecisionTreeRegressor\n",
    "\n",
    "import zipfile\n",
    "import os\n",
    "\n",
    "from xgboost import XGBRegressor\n",
    "from lightgbm import LGBMRegressor\n",
    "\n",
    "\n",
    "\n",
    "\n",
    "from pmlb import fetch_data,regression_dataset_names\n",
    "from tqdm import tqdm\n",
    "import time\n",
    "\n",
    "from category_encoders.target_encoder import TargetEncoder\n",
    "\n",
    "import warnings\n",
    "warnings.filterwarnings('ignore')\n"
   ]
  },
  {
   "cell_type": "code",
   "execution_count": 3,
   "metadata": {
    "ExecuteTime": {
     "end_time": "2020-06-13T09:13:32.404723Z",
     "start_time": "2020-06-13T09:13:32.396998Z"
    }
   },
   "outputs": [],
   "source": [
    "class TypeSelector(BaseEstimator, TransformerMixin):\n",
    "    '''\n",
    "    Transformer that filters a type of columns of a given data frame.\n",
    "    '''\n",
    "    def __init__(self, dtype):\n",
    "        self.dtype = dtype\n",
    "    def fit(self, X, y=None):\n",
    "        return self\n",
    "    def transform(self, X):\n",
    "        assert isinstance(X, pd.DataFrame)\n",
    "        #print(\"Type Selector out shape {}\".format(X.select_dtypes(include=[self.dtype]).shape))\n",
    "        #print(X.select_dtypes(include=[self.dtype]).dtypes)\n",
    "        return X.select_dtypes(include=[self.dtype])\n",
    "\n",
    "def elapsed_time_mins (time1,time2):\n",
    "    elapsed = np.round(np.abs(time1-time2)/60,decimals=2)\n",
    "\n",
    "    return elapsed\n",
    "\n",
    "\n",
    "\n",
    "def fit_pipe(pipe,pipe_grid,X,y,subsample=False,n_max=20_000,best_params=True):\n",
    "    \n",
    "    if subsample:\n",
    "        X = X[0:n_max]\n",
    "        y = y[0:n_max]\n",
    "    \n",
    "    # Instantiate the grid\n",
    "    pipe_cv = GridSearchCV(pipe, param_grid=pipe_grid, n_jobs = n_jobs, cv=cv, scoring=\"neg_mean_absolute_error\")\n",
    "    \n",
    "    pipe_cv.fit(X,y)\n",
    "    \n",
    "    best_estimator = pipe_cv.best_estimator_.fit( X_tr, y_tr)\n",
    "    grid_results = pd.DataFrame(pipe_cv.cv_results_)\n",
    "    \n",
    "    return best_estimator,grid_results,pipe_cv.best_params_"
   ]
  },
  {
   "cell_type": "code",
   "execution_count": 4,
   "metadata": {
    "ExecuteTime": {
     "end_time": "2020-06-13T09:13:32.425537Z",
     "start_time": "2020-06-13T09:13:32.408720Z"
    }
   },
   "outputs": [
    {
     "name": "stdout",
     "output_type": "stream",
     "text": [
      "/Users/cmougan/Desktop/sktools\n"
     ]
    }
   ],
   "source": [
    "cd .."
   ]
  },
  {
   "cell_type": "code",
   "execution_count": 5,
   "metadata": {
    "ExecuteTime": {
     "end_time": "2020-06-13T09:13:32.438140Z",
     "start_time": "2020-06-13T09:13:32.430268Z"
    }
   },
   "outputs": [],
   "source": [
    "import sktools"
   ]
  },
  {
   "cell_type": "code",
   "execution_count": 6,
   "metadata": {
    "ExecuteTime": {
     "end_time": "2020-06-13T09:13:32.456997Z",
     "start_time": "2020-06-13T09:13:32.442324Z"
    }
   },
   "outputs": [
    {
     "name": "stdout",
     "output_type": "stream",
     "text": [
      "/Users/cmougan/Desktop/sktools/CARLOS_TEST\n"
     ]
    }
   ],
   "source": [
    "cd CARLOS_TEST/"
   ]
  },
  {
   "cell_type": "markdown",
   "metadata": {},
   "source": [
    "## Define the data"
   ]
  },
  {
   "cell_type": "raw",
   "metadata": {
    "ExecuteTime": {
     "end_time": "2020-06-11T08:02:11.521898Z",
     "start_time": "2020-06-11T08:02:08.959333Z"
    }
   },
   "source": [
    "d = pd.read_csv('data/stackoverflow.csv')\n",
    "\n",
    "d.ConvertedSalary = pd.to_numeric(d.ConvertedSalary,errors='coerce')\n",
    "\n",
    "d = d[d.ConvertedSalary.isna()!=True]\n",
    "\n",
    "\n",
    "\n",
    "d.to_csv('data/stackoverflow.csv',index=False)"
   ]
  },
  {
   "cell_type": "code",
   "execution_count": 7,
   "metadata": {
    "ExecuteTime": {
     "end_time": "2020-06-13T09:13:32.471625Z",
     "start_time": "2020-06-13T09:13:32.463873Z"
    }
   },
   "outputs": [],
   "source": [
    "data = [\n",
    "    'data/house_kaggle.csv',\n",
    "    'data/stackoverflow.csv'\n",
    "]"
   ]
  },
  {
   "cell_type": "code",
   "execution_count": 8,
   "metadata": {
    "ExecuteTime": {
     "end_time": "2020-06-13T09:13:32.480384Z",
     "start_time": "2020-06-13T09:13:32.473896Z"
    }
   },
   "outputs": [],
   "source": [
    "drop = [\n",
    "    ['Id'],\n",
    "    ['Respondent','Salary']\n",
    "]"
   ]
  },
  {
   "cell_type": "code",
   "execution_count": 9,
   "metadata": {
    "ExecuteTime": {
     "end_time": "2020-06-13T09:13:32.490437Z",
     "start_time": "2020-06-13T09:13:32.484442Z"
    }
   },
   "outputs": [],
   "source": [
    "cols_enc = [\n",
    "    ['MSSubClass','MSZoning','LotShape','LandContour','Utilities','LotConfig','Neighborhood','BldgType','HouseStyle','YearBuilt','RoofStyle','RoofMatl','Exterior1st','Exterior2nd','ExterQual','MasVnrType','Heating','HeatingQC'],\n",
    "    ['Country','Employment','FormalEducation','UndergradMajor','CompanySize','DevType','YearsCoding','LanguageWorkedWith','LanguageDesireNextYear','RaceEthnicity']\n",
    "]"
   ]
  },
  {
   "cell_type": "code",
   "execution_count": 10,
   "metadata": {
    "ExecuteTime": {
     "end_time": "2020-06-13T09:13:32.504061Z",
     "start_time": "2020-06-13T09:13:32.494405Z"
    }
   },
   "outputs": [],
   "source": [
    "target = [\n",
    "    ['SalePrice'],\n",
    "    ['ConvertedSalary']\n",
    "    \n",
    "]"
   ]
  },
  {
   "cell_type": "markdown",
   "metadata": {
    "ExecuteTime": {
     "end_time": "2020-06-01T15:30:39.185710Z",
     "start_time": "2020-06-01T15:30:39.181882Z"
    }
   },
   "source": [
    "# Loop"
   ]
  },
  {
   "cell_type": "code",
   "execution_count": 11,
   "metadata": {
    "ExecuteTime": {
     "end_time": "2020-06-13T09:13:32.522921Z",
     "start_time": "2020-06-13T09:13:32.513643Z"
    }
   },
   "outputs": [],
   "source": [
    "n_jobs = 1\n",
    "float_eltype = np.float32\n",
    "resultados = []\n",
    "tic=time.time()\n",
    "\n",
    "n_max = 20_000\n",
    "cv = 4\n",
    "filter_size = 2_000\n",
    "columns =['NameDataset',\n",
    "          # Scores\n",
    "          'bag_train_mae','bag_te_test_mae',\n",
    "          'bag_te_train_mse','bag_te_test_mse',\n",
    "          \n",
    "          'brag_train_mae','brag_te_test_mae',\n",
    "          'brag_te_train_mse','brag_te_test_mse',\n",
    "         \n",
    "          \n",
    "          \n",
    "          'size',\n",
    "          \n",
    "          # Params\n",
    "          #'enet_te_best_params','enet_pe_best_params',\n",
    "          # Time\n",
    "          'time_train_m']        \n"
   ]
  },
  {
   "cell_type": "code",
   "execution_count": 12,
   "metadata": {
    "ExecuteTime": {
     "end_time": "2020-06-13T13:49:11.078758Z",
     "start_time": "2020-06-13T09:13:32.526330Z"
    },
    "scrolled": false
   },
   "outputs": [
    {
     "name": "stdout",
     "output_type": "stream",
     "text": [
      "---------------------------------------------------------------------------\n",
      "|   Data        |  Model        |      Train         |       Test         |\n",
      "|---------------|---------------|--------------------|--------------------|\n",
      "| data/house    |   bag     |     8987.49470        |      16723.65708       |\n",
      "| data/house    |   brag     |     1412.60913        |      17383.84795       |\n",
      "|---------------|---------------|--------------------|--------------------|\n",
      "| data/stack    |   bag     |     23097.17075        |      78586.88307       |\n",
      "| data/stack    |   brag     |     6417.58174        |      66191.41818       |\n",
      "|---------------|---------------|--------------------|--------------------|\n",
      "|-----------------------------------------------------------------|\n"
     ]
    }
   ],
   "source": [
    "print('---------------------------------------------------------------------------')\n",
    "print('|   Data        |  Model        |      Train         |       Test         |')\n",
    "print('|---------------|---------------|--------------------|--------------------|')\n",
    "\n",
    "for i in range(0,len(data)):\n",
    "    \n",
    "    # Read data\n",
    "    df = pd.read_csv(data[i])\n",
    "    #df = df.sample(frac=0.2,random_state=0)\n",
    "    \n",
    "    # Drop columns \n",
    "    df = df.drop(columns=drop[i])\n",
    "    \n",
    "    # Fillna\n",
    "    df.fillna(df.mean(), inplace=True)\n",
    "    # if its just NaNs\n",
    "    df.fillna(0,inplace=True)\n",
    "    \n",
    "    # Train-Test Split\n",
    "    X_tr, X_te, y_tr, y_te = sklearn.model_selection.train_test_split(df.drop(columns=target[i]), df[target[i]])\n",
    "        \n",
    "        \n",
    "    # Bagging\n",
    "    scaler  = sklearn.preprocessing.StandardScaler()\n",
    "    clf = BaggingRegressor(base_estimator=DecisionTreeRegressor(criterion='mse',max_features='auto'),\n",
    "                           n_estimators=50,max_samples=0.7,random_state=0)\n",
    "    pe = sktools.PercentileEncoder(cols= cols_enc[i],percentile=50,m=0)\n",
    "        \n",
    "\n",
    "    pipe = Pipeline([\n",
    "            ('pe',pe),\n",
    "            ('selector', TypeSelector(np.number)), # Selects Numerical Columns only\n",
    "            ('clf',clf )])\n",
    "        \n",
    "    pipe_grid = { \n",
    "        \"pe__m\":[0,1,100],\n",
    "        \"pe__percentile\":[25,50,75],\n",
    "        }\n",
    "    \n",
    "    # Train model\n",
    "    #bag,grid_results,bag_params = fit_pipe(pipe,pipe_grid,X_tr,y_tr)\n",
    "    bag = pipe.fit(X_tr,y_tr)\n",
    "\n",
    "\n",
    "    score_bag_train = mean_absolute_error(y_tr, bag.predict(X_tr))\n",
    "    score_bag_test = mean_absolute_error(y_te,  bag.predict(X_te))\n",
    "    \n",
    "    score_bag_train_mse = mean_squared_error(y_tr, bag.predict(X_tr))\n",
    "    score_bag_test_mse = mean_squared_error(y_te, bag.predict(X_te))\n",
    "    print('| {0:}    |   bag     |     {1:.5f}        |      {2:.5f}       |'.format(data[i][5:10],score_bag_train,score_bag_test))\n",
    "    \n",
    "    # Bragging\n",
    "    scaler  = sklearn.preprocessing.StandardScaler()\n",
    "    clf = BraggingRegressor(base_estimator=DecisionTreeRegressor(criterion='mae',max_features='auto'),\n",
    "                            n_estimators=50,max_samples=0.7,random_state=0)\n",
    "    pe = sktools.PercentileEncoder(cols= cols_enc[i],percentile=50,m=0)\n",
    "        \n",
    "\n",
    "    pipe = Pipeline([\n",
    "            ('pe',pe),\n",
    "            ('selector', TypeSelector(np.number)), # Selects Numerical Columns only\n",
    "            ('clf',clf )])\n",
    "        \n",
    "    pipe_grid = { \n",
    "        \"pe__m\":[0,1,100],\n",
    "        \"pe__percentile\":[25,50,75],\n",
    "        }\n",
    "    \n",
    "    # Train model\n",
    "    #brag,grid_results,brag_params = fit_pipe(pipe,pipe_grid,X_tr,y_tr)\n",
    "    brag = pipe.fit(X_tr,y_tr)\n",
    "\n",
    "\n",
    "    score_brag_train = mean_absolute_error(y_tr, brag.predict(X_tr))\n",
    "    score_brag_test = mean_absolute_error(y_te,  brag.predict(X_te))\n",
    "    \n",
    "    score_brag_train_mse = mean_squared_error(y_tr, brag.predict(X_tr))\n",
    "    score_brag_test_mse = mean_squared_error(y_te, brag.predict(X_te))\n",
    "    print('| {0:}    |   brag     |     {1:.5f}        |      {2:.5f}       |'.format(data[i][5:10],score_brag_train,score_brag_test))\n",
    "    \n",
    "     \n",
    "    # Add Results\n",
    "    resultados.append([data[i].split('/')[1],\n",
    "                       #Scores\n",
    "                       score_bag_train,score_bag_test,\n",
    "                       score_bag_train_mse,score_bag_test_mse,\n",
    "                       \n",
    "                       score_brag_train,score_brag_test,\n",
    "                       score_brag_train_mse,score_brag_test_mse,\n",
    "                       \n",
    "                       \n",
    "                       # Shape\n",
    "                       df.shape,\n",
    "                       \n",
    "                       # params\n",
    "                       #enet_te_params,\n",
    "                       #enet_pe_params,\n",
    "                       \n",
    "                       # Time\n",
    "                       elapsed_time_mins(tic,time.time())])\n",
    "    print('|---------------|---------------|--------------------|--------------------|')\n",
    "\n",
    "    \n",
    "print('|-----------------------------------------------------------------|')  "
   ]
  },
  {
   "cell_type": "code",
   "execution_count": 13,
   "metadata": {
    "ExecuteTime": {
     "end_time": "2020-06-13T13:49:11.126085Z",
     "start_time": "2020-06-13T13:49:11.082748Z"
    }
   },
   "outputs": [
    {
     "data": {
      "text/html": [
       "<div>\n",
       "<style scoped>\n",
       "    .dataframe tbody tr th:only-of-type {\n",
       "        vertical-align: middle;\n",
       "    }\n",
       "\n",
       "    .dataframe tbody tr th {\n",
       "        vertical-align: top;\n",
       "    }\n",
       "\n",
       "    .dataframe thead th {\n",
       "        text-align: right;\n",
       "    }\n",
       "</style>\n",
       "<table border=\"1\" class=\"dataframe\">\n",
       "  <thead>\n",
       "    <tr style=\"text-align: right;\">\n",
       "      <th></th>\n",
       "      <th>NameDataset</th>\n",
       "      <th>bag_train_mae</th>\n",
       "      <th>bag_te_test_mae</th>\n",
       "      <th>bag_te_train_mse</th>\n",
       "      <th>bag_te_test_mse</th>\n",
       "      <th>brag_train_mae</th>\n",
       "      <th>brag_te_test_mae</th>\n",
       "      <th>brag_te_train_mse</th>\n",
       "      <th>brag_te_test_mse</th>\n",
       "      <th>size</th>\n",
       "      <th>time_train_m</th>\n",
       "    </tr>\n",
       "  </thead>\n",
       "  <tbody>\n",
       "    <tr>\n",
       "      <th>0</th>\n",
       "      <td>house_kaggle.csv</td>\n",
       "      <td>8987.494697</td>\n",
       "      <td>16723.657078</td>\n",
       "      <td>2.419009e+08</td>\n",
       "      <td>6.831342e+08</td>\n",
       "      <td>1412.609132</td>\n",
       "      <td>17383.847945</td>\n",
       "      <td>6.450739e+07</td>\n",
       "      <td>7.292820e+08</td>\n",
       "      <td>(1460, 80)</td>\n",
       "      <td>0.10</td>\n",
       "    </tr>\n",
       "    <tr>\n",
       "      <th>1</th>\n",
       "      <td>stackoverflow.csv</td>\n",
       "      <td>23097.170753</td>\n",
       "      <td>78586.883067</td>\n",
       "      <td>4.796642e+09</td>\n",
       "      <td>4.791100e+10</td>\n",
       "      <td>6417.581738</td>\n",
       "      <td>66191.418183</td>\n",
       "      <td>5.529915e+09</td>\n",
       "      <td>4.855742e+10</td>\n",
       "      <td>(47702, 127)</td>\n",
       "      <td>275.64</td>\n",
       "    </tr>\n",
       "  </tbody>\n",
       "</table>\n",
       "</div>"
      ],
      "text/plain": [
       "         NameDataset  bag_train_mae  bag_te_test_mae  bag_te_train_mse  \\\n",
       "0   house_kaggle.csv    8987.494697     16723.657078      2.419009e+08   \n",
       "1  stackoverflow.csv   23097.170753     78586.883067      4.796642e+09   \n",
       "\n",
       "   bag_te_test_mse  brag_train_mae  brag_te_test_mae  brag_te_train_mse  \\\n",
       "0     6.831342e+08     1412.609132      17383.847945       6.450739e+07   \n",
       "1     4.791100e+10     6417.581738      66191.418183       5.529915e+09   \n",
       "\n",
       "   brag_te_test_mse          size  time_train_m  \n",
       "0      7.292820e+08    (1460, 80)          0.10  \n",
       "1      4.855742e+10  (47702, 127)        275.64  "
      ]
     },
     "execution_count": 13,
     "metadata": {},
     "output_type": "execute_result"
    }
   ],
   "source": [
    "pd.DataFrame(resultados,columns=columns)"
   ]
  },
  {
   "cell_type": "markdown",
   "metadata": {},
   "source": [
    "---------------------------------------------------------------------------\n",
    "|   Data        |  Model        |      Train         |       Test         |\n",
    "|---------------|---------------|--------------------|--------------------|\n",
    "| data/house    |   bag         |     8987.49470     |      16723.65708   |\n",
    "| data/house    |   brag        |     1412.60913     |      17383.84795   |\n",
    "| data/stack    |   bag         |     23097.17075    |      78586.88307   |\n",
    "| data/stack    |   brag     |     6417.58174        |      66191.41818       |"
   ]
  },
  {
   "cell_type": "code",
   "execution_count": null,
   "metadata": {},
   "outputs": [],
   "source": []
  }
 ],
 "metadata": {
  "kernelspec": {
   "display_name": "Python 3",
   "language": "python",
   "name": "python3"
  },
  "language_info": {
   "codemirror_mode": {
    "name": "ipython",
    "version": 3
   },
   "file_extension": ".py",
   "mimetype": "text/x-python",
   "name": "python",
   "nbconvert_exporter": "python",
   "pygments_lexer": "ipython3",
   "version": "3.6.8"
  }
 },
 "nbformat": 4,
 "nbformat_minor": 2
}
