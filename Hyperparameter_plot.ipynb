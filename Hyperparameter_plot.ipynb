{
 "cells": [
  {
   "cell_type": "code",
   "execution_count": 1,
   "metadata": {
    "ExecuteTime": {
     "end_time": "2020-07-09T16:16:13.724788Z",
     "start_time": "2020-07-09T16:16:13.705833Z"
    }
   },
   "outputs": [
    {
     "data": {
      "application/javascript": [
       "utils.load_extension(\"collapsible_headings/main\")\n",
       "utils.load_extension(\"hide_input/main\")\n",
       "utils.load_extension(\"autosavetime/main\")\n",
       "utils.load_extension(\"execute_time/ExecuteTime\")\n",
       "utils.load_extension(\"code_prettify/code_prettify\")\n",
       "utils.load_extension(\"scroll_down/main\")\n",
       "utils.load_extension(\"jupyter-js-widgets/extension\")\n"
      ],
      "text/plain": [
       "<IPython.core.display.Javascript object>"
      ]
     },
     "metadata": {},
     "output_type": "display_data"
    }
   ],
   "source": [
    "%%javascript\n",
    "utils.load_extension(\"collapsible_headings/main\")\n",
    "utils.load_extension(\"hide_input/main\")\n",
    "utils.load_extension(\"autosavetime/main\")\n",
    "utils.load_extension(\"execute_time/ExecuteTime\")\n",
    "utils.load_extension(\"code_prettify/code_prettify\")\n",
    "utils.load_extension(\"scroll_down/main\")\n",
    "utils.load_extension(\"jupyter-js-widgets/extension\")"
   ]
  },
  {
   "cell_type": "code",
   "execution_count": 2,
   "metadata": {
    "ExecuteTime": {
     "end_time": "2020-07-09T16:16:16.257688Z",
     "start_time": "2020-07-09T16:16:13.727577Z"
    }
   },
   "outputs": [
    {
     "name": "stderr",
     "output_type": "stream",
     "text": [
      "/Users/cmougan/anaconda3/lib/python3.6/site-packages/lightgbm/__init__.py:46: UserWarning: Starting from version 2.2.1, the library file in distribution wheels for macOS is built by the Apple Clang (Xcode_8.3.1) compiler.\n",
      "This means that in case of installing LightGBM from PyPI via the ``pip install lightgbm`` command, you don't need to install the gcc compiler anymore.\n",
      "Instead of that, you need to install the OpenMP library, which is required for running LightGBM on the system with the Apple Clang compiler.\n",
      "You can install the OpenMP library by the following command: ``brew install libomp``.\n",
      "  \"You can install the OpenMP library by the following command: ``brew install libomp``.\", UserWarning)\n"
     ]
    }
   ],
   "source": [
    "from sklearn import *\n",
    "import sklearn\n",
    "import time\n",
    "from sklearn.base import BaseEstimator, TransformerMixin\n",
    "import numpy as np\n",
    "import pandas as pd\n",
    "import matplotlib.pyplot as plt\n",
    "\n",
    "pd.set_option(\"max_columns\", None)\n",
    "import joblib\n",
    "from sklearn.metrics import mean_absolute_error, mean_squared_error\n",
    "from sklearn import pipeline\n",
    "from sklearn.pipeline import Pipeline\n",
    "from sklearn.model_selection import GridSearchCV, RepeatedKFold\n",
    "from scipy.stats import wilcoxon\n",
    "import pdb\n",
    "\n",
    "\n",
    "from sklearn.feature_selection import VarianceThreshold\n",
    "import zipfile\n",
    "import os\n",
    "\n",
    "from xgboost import XGBRegressor\n",
    "from lightgbm import LGBMRegressor\n",
    "from tqdm.notebook import tqdm\n",
    "\n",
    "import random\n",
    "\n",
    "random.seed(0)\n",
    "\n",
    "from pmlb import fetch_data, regression_dataset_names\n",
    "from tqdm import tqdm\n",
    "import time\n",
    "\n",
    "from category_encoders.target_encoder import TargetEncoder\n",
    "from category_encoders.m_estimate import MEstimateEncoder\n",
    "\n",
    "import warnings\n",
    "\n",
    "warnings.filterwarnings(\"ignore\")\n",
    "\n",
    "import sktools\n",
    "from tabulate import tabulate"
   ]
  },
  {
   "cell_type": "code",
   "execution_count": 3,
   "metadata": {
    "ExecuteTime": {
     "end_time": "2020-07-09T16:16:16.265729Z",
     "start_time": "2020-07-09T16:16:16.259523Z"
    }
   },
   "outputs": [],
   "source": [
    "class TypeSelector(BaseEstimator, TransformerMixin):\n",
    "    \"\"\"\n",
    "    Transformer that filters a type of columns of a given data frame.\n",
    "    \"\"\"\n",
    "\n",
    "    def __init__(self, dtype):\n",
    "        self.dtype = dtype\n",
    "\n",
    "    def fit(self, X, y=None):\n",
    "        return self\n",
    "\n",
    "    def transform(self, X):\n",
    "        assert isinstance(X, pd.DataFrame)\n",
    "        # print(\"Type Selector out shape {}\".format(X.select_dtypes(include=[self.dtype]).shape))\n",
    "        # print(X.select_dtypes(include=[self.dtype]).dtypes)\n",
    "        return X.select_dtypes(include=[self.dtype])\n"
   ]
  },
  {
   "cell_type": "code",
   "execution_count": 4,
   "metadata": {
    "ExecuteTime": {
     "end_time": "2020-07-09T16:16:17.478156Z",
     "start_time": "2020-07-09T16:16:16.268282Z"
    }
   },
   "outputs": [],
   "source": [
    "df = pd.read_csv('data/stackoverflow.csv')"
   ]
  },
  {
   "cell_type": "code",
   "execution_count": 5,
   "metadata": {
    "ExecuteTime": {
     "end_time": "2020-07-09T16:16:17.512997Z",
     "start_time": "2020-07-09T16:16:17.481364Z"
    }
   },
   "outputs": [],
   "source": [
    "df = df.sample(frac=0.1)"
   ]
  },
  {
   "cell_type": "code",
   "execution_count": 6,
   "metadata": {
    "ExecuteTime": {
     "end_time": "2020-07-09T16:16:17.529954Z",
     "start_time": "2020-07-09T16:16:17.515470Z"
    }
   },
   "outputs": [],
   "source": [
    "df = df[[\"Country\", \"Employment\", \"FormalEducation\", \"DevType\", \"LanguageWorkedWith\",'ConvertedSalary']]\n",
    "df = df[[\"Country\", \"Employment\", \"FormalEducation\",  \"LanguageWorkedWith\",'ConvertedSalary']]"
   ]
  },
  {
   "cell_type": "code",
   "execution_count": 7,
   "metadata": {
    "ExecuteTime": {
     "end_time": "2020-07-09T16:16:17.535992Z",
     "start_time": "2020-07-09T16:16:17.532111Z"
    }
   },
   "outputs": [],
   "source": [
    "cols_enc = [\"Country\", \"Employment\", \"FormalEducation\", \"DevType\", \"LanguageWorkedWith\"]\n",
    "cols_enc = [\"Country\", \"Employment\", \"FormalEducation\", \"LanguageWorkedWith\"]"
   ]
  },
  {
   "cell_type": "code",
   "execution_count": 8,
   "metadata": {
    "ExecuteTime": {
     "end_time": "2020-07-09T16:16:17.544289Z",
     "start_time": "2020-07-09T16:16:17.538153Z"
    }
   },
   "outputs": [],
   "source": [
    "def f(m, q):\n",
    "    out = np.zeros([len(m), len(q)])\n",
    "\n",
    "    for i in tqdm(range(0, len(m)), desc=\" outer\", position=0):\n",
    "        for j in tqdm(range(0,len(q)), desc=\" inner\", position=1,leave=False):\n",
    "            # Elastic Net + percentile encoding\n",
    "            scaler = sklearn.preprocessing.StandardScaler()\n",
    "            clf = sklearn.linear_model.ElasticNet()\n",
    "            pe = sktools.QuantileEncoder(cols=cols_enc, quantile=0.50, m=0)\n",
    "\n",
    "            pipe = Pipeline([\n",
    "                (\"pe\", pe),\n",
    "                (\"selector\",\n",
    "                 TypeSelector(np.number)),  # Selects Numerical Columns only\n",
    "                (\"scaler\", scaler),\n",
    "                (\"clf\", clf),\n",
    "            ])\n",
    "\n",
    "            pipe_grid = {\n",
    "                \"pe__m\": [m[i]],\n",
    "                \"pe__quantile\": [q[j]],\n",
    "            }\n",
    "\n",
    "            pipe_cv = GridSearchCV(\n",
    "                pipe,\n",
    "                param_grid=pipe_grid,\n",
    "                n_jobs=-1,\n",
    "                cv=3,\n",
    "                scoring=\"neg_mean_absolute_error\",\n",
    "            )\n",
    "\n",
    "            pipe_cv.fit(df.drop(columns='ConvertedSalary'), df.ConvertedSalary)\n",
    "\n",
    "            out[i][j] = pipe_cv.cv_results_['mean_test_score']\n",
    "\n",
    "    return out"
   ]
  },
  {
   "cell_type": "code",
   "execution_count": 9,
   "metadata": {
    "ExecuteTime": {
     "end_time": "2020-07-09T16:16:57.586847Z",
     "start_time": "2020-07-09T16:16:17.546540Z"
    },
    "scrolled": false
   },
   "outputs": [
    {
     "name": "stderr",
     "output_type": "stream",
     "text": [
      " outer:   0%|          | 0/6 [00:00<?, ?it/s]\n",
      " inner:   0%|          | 0/6 [00:00<?, ?it/s]\u001b[A\n",
      " inner:  17%|█▋        | 1/6 [00:02<00:14,  2.98s/it]\u001b[A\n",
      " inner:  33%|███▎      | 2/6 [00:04<00:10,  2.69s/it]\u001b[A\n",
      " inner:  50%|█████     | 3/6 [00:06<00:06,  2.23s/it]\u001b[A\n",
      " inner:  67%|██████▋   | 4/6 [00:07<00:03,  1.89s/it]\u001b[A\n",
      " inner:  83%|████████▎ | 5/6 [00:08<00:01,  1.66s/it]\u001b[A\n",
      " inner: 100%|██████████| 6/6 [00:09<00:00,  1.45s/it]\u001b[A\n",
      " outer:  17%|█▋        | 1/6 [00:09<00:46,  9.35s/it]\u001b[A\n",
      " inner:   0%|          | 0/6 [00:00<?, ?it/s]\u001b[A\n",
      " inner:  17%|█▋        | 1/6 [00:01<00:05,  1.03s/it]\u001b[A\n",
      " inner:  33%|███▎      | 2/6 [00:01<00:04,  1.00s/it]\u001b[A\n",
      " inner:  50%|█████     | 3/6 [00:02<00:02,  1.01it/s]\u001b[A\n",
      " inner:  67%|██████▋   | 4/6 [00:03<00:01,  1.02it/s]\u001b[A\n",
      " inner:  83%|████████▎ | 5/6 [00:04<00:00,  1.02it/s]\u001b[A\n",
      " inner: 100%|██████████| 6/6 [00:05<00:00,  1.03it/s]\u001b[A\n",
      " outer:  33%|███▎      | 2/6 [00:15<00:33,  8.30s/it]\u001b[A\n",
      " inner:   0%|          | 0/6 [00:00<?, ?it/s]\u001b[A\n",
      " inner:  17%|█▋        | 1/6 [00:01<00:05,  1.08s/it]\u001b[A\n",
      " inner:  33%|███▎      | 2/6 [00:02<00:04,  1.03s/it]\u001b[A\n",
      " inner:  50%|█████     | 3/6 [00:02<00:03,  1.02s/it]\u001b[A\n",
      " inner:  67%|██████▋   | 4/6 [00:03<00:02,  1.00s/it]\u001b[A\n",
      " inner:  83%|████████▎ | 5/6 [00:04<00:00,  1.03it/s]\u001b[A\n",
      " inner: 100%|██████████| 6/6 [00:05<00:00,  1.03it/s]\u001b[A\n",
      " outer:  50%|█████     | 3/6 [00:21<00:22,  7.55s/it]\u001b[A\n",
      " inner:   0%|          | 0/6 [00:00<?, ?it/s]\u001b[A\n",
      " inner:  17%|█▋        | 1/6 [00:00<00:04,  1.04it/s]\u001b[A\n",
      " inner:  33%|███▎      | 2/6 [00:01<00:03,  1.03it/s]\u001b[A\n",
      " inner:  50%|█████     | 3/6 [00:02<00:02,  1.03it/s]\u001b[A\n",
      " inner:  67%|██████▋   | 4/6 [00:03<00:01,  1.05it/s]\u001b[A\n",
      " inner:  83%|████████▎ | 5/6 [00:04<00:00,  1.06it/s]\u001b[A\n",
      " inner: 100%|██████████| 6/6 [00:05<00:00,  1.07it/s]\u001b[A\n",
      " outer:  67%|██████▋   | 4/6 [00:26<00:13,  6.99s/it]\u001b[A\n",
      " inner:   0%|          | 0/6 [00:00<?, ?it/s]\u001b[A\n",
      " inner:  17%|█▋        | 1/6 [00:00<00:04,  1.07it/s]\u001b[A\n",
      " inner:  33%|███▎      | 2/6 [00:02<00:04,  1.03s/it]\u001b[A\n",
      " inner:  50%|█████     | 3/6 [00:03<00:03,  1.09s/it]\u001b[A\n",
      " inner:  67%|██████▋   | 4/6 [00:04<00:02,  1.10s/it]\u001b[A\n",
      " inner:  83%|████████▎ | 5/6 [00:05<00:01,  1.20s/it]\u001b[A\n",
      " inner: 100%|██████████| 6/6 [00:07<00:00,  1.21s/it]\u001b[A\n",
      " outer:  83%|████████▎ | 5/6 [00:33<00:07,  7.06s/it]\u001b[A\n",
      " inner:   0%|          | 0/6 [00:00<?, ?it/s]\u001b[A\n",
      " inner:  17%|█▋        | 1/6 [00:01<00:05,  1.18s/it]\u001b[A\n",
      " inner:  33%|███▎      | 2/6 [00:02<00:04,  1.15s/it]\u001b[A\n",
      " inner:  50%|█████     | 3/6 [00:03<00:03,  1.14s/it]\u001b[A\n",
      " inner:  67%|██████▋   | 4/6 [00:04<00:02,  1.07s/it]\u001b[A\n",
      " inner:  83%|████████▎ | 5/6 [00:05<00:01,  1.03s/it]\u001b[A\n",
      " inner: 100%|██████████| 6/6 [00:06<00:00,  1.01it/s]\u001b[A\n",
      " outer: 100%|██████████| 6/6 [00:40<00:00,  6.67s/it]\u001b[A\n"
     ]
    }
   ],
   "source": [
    "M = [0,1,2,3,4,5]\n",
    "Q = np.linspace(0, 1, 6)\n",
    "Z = f(M, Q)\n",
    "M, Q = np.meshgrid(M, Q)"
   ]
  },
  {
   "cell_type": "code",
   "execution_count": 10,
   "metadata": {
    "ExecuteTime": {
     "end_time": "2020-07-09T16:16:57.935159Z",
     "start_time": "2020-07-09T16:16:57.590749Z"
    }
   },
   "outputs": [
    {
     "data": {
      "image/png": "[encoded data removed]",
      "text/plain": [
       "<Figure size 432x288 with 2 Axes>"
      ]
     },
     "metadata": {},
     "output_type": "display_data"
    }
   ],
   "source": [
    "plt.plot()\n",
    "cp = plt.contourf(M, Q, Z)\n",
    "plt.colorbar(cp)  #Add a colorbar to a plot\n",
    "plt.xlabel('M')\n",
    "plt.ylabel('Quantile')\n",
    "plt.title('MAE with different hyperparameters')\n",
    "plt.savefig('hyperparameters_contour.eps',format='eps')\n",
    "plt.show()"
   ]
  },
  {
   "cell_type": "code",
   "execution_count": null,
   "metadata": {},
   "outputs": [],
   "source": []
  }
 ],
 "metadata": {
  "kernelspec": {
   "display_name": "Python 3",
   "language": "python",
   "name": "python3"
  },
  "language_info": {
   "codemirror_mode": {
    "name": "ipython",
    "version": 3
   },
   "file_extension": ".py",
   "mimetype": "text/x-python",
   "name": "python",
   "nbconvert_exporter": "python",
   "pygments_lexer": "ipython3",
   "version": "3.6.8"
  }
 },
 "nbformat": 4,
 "nbformat_minor": 2
}
