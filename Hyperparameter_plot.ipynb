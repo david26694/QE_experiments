{
 "cells": [
  {
   "cell_type": "code",
   "execution_count": 16,
   "metadata": {},
   "outputs": [
    {
     "data": {
      "application/javascript": [
       "utils.load_extension(\"collapsible_headings/main\")\n",
       "utils.load_extension(\"hide_input/main\")\n",
       "utils.load_extension(\"autosavetime/main\")\n",
       "utils.load_extension(\"execute_time/ExecuteTime\")\n",
       "utils.load_extension(\"code_prettify/code_prettify\")\n",
       "utils.load_extension(\"scroll_down/main\")\n",
       "utils.load_extension(\"jupyter-js-widgets/extension\")\n"
      ],
      "text/plain": [
       "<IPython.core.display.Javascript object>"
      ]
     },
     "metadata": {},
     "output_type": "display_data"
    }
   ],
   "source": [
    "%%javascript\n",
    "utils.load_extension(\"collapsible_headings/main\")\n",
    "utils.load_extension(\"hide_input/main\")\n",
    "utils.load_extension(\"autosavetime/main\")\n",
    "utils.load_extension(\"execute_time/ExecuteTime\")\n",
    "utils.load_extension(\"code_prettify/code_prettify\")\n",
    "utils.load_extension(\"scroll_down/main\")\n",
    "utils.load_extension(\"jupyter-js-widgets/extension\")"
   ]
  },
  {
   "cell_type": "code",
   "execution_count": 150,
   "metadata": {
    "ExecuteTime": {
     "end_time": "2020-07-05T15:55:00.925283Z",
     "start_time": "2020-07-05T15:55:00.918016Z"
    }
   },
   "outputs": [],
   "source": [
    "from sklearn import *\n",
    "import sklearn\n",
    "import time\n",
    "from sklearn.base import BaseEstimator, TransformerMixin\n",
    "import numpy as np\n",
    "import pandas as pd\n",
    "import matplotlib.pyplot as plt\n",
    "\n",
    "pd.set_option(\"max_columns\", None)\n",
    "import joblib\n",
    "from sklearn.metrics import mean_absolute_error, mean_squared_error\n",
    "from sklearn import pipeline\n",
    "from sklearn.pipeline import Pipeline\n",
    "from sklearn.model_selection import GridSearchCV, RepeatedKFold\n",
    "from scipy.stats import wilcoxon\n",
    "import pdb\n",
    "\n",
    "\n",
    "from sklearn.feature_selection import VarianceThreshold\n",
    "import zipfile\n",
    "import os\n",
    "\n",
    "from xgboost import XGBRegressor\n",
    "from lightgbm import LGBMRegressor\n",
    "\n",
    "\n",
    "import random\n",
    "\n",
    "random.seed(0)\n",
    "\n",
    "from pmlb import fetch_data, regression_dataset_names\n",
    "from tqdm import tqdm\n",
    "import time\n",
    "\n",
    "from category_encoders.target_encoder import TargetEncoder\n",
    "from category_encoders.m_estimate import MEstimateEncoder\n",
    "\n",
    "import warnings\n",
    "\n",
    "warnings.filterwarnings(\"ignore\")\n",
    "\n",
    "import sktools\n",
    "from tabulate import tabulate"
   ]
  },
  {
   "cell_type": "code",
   "execution_count": 40,
   "metadata": {
    "ExecuteTime": {
     "end_time": "2020-07-05T15:07:34.406213Z",
     "start_time": "2020-07-05T15:07:34.401083Z"
    }
   },
   "outputs": [],
   "source": [
    "class TypeSelector(BaseEstimator, TransformerMixin):\n",
    "    \"\"\"\n",
    "    Transformer that filters a type of columns of a given data frame.\n",
    "    \"\"\"\n",
    "\n",
    "    def __init__(self, dtype):\n",
    "        self.dtype = dtype\n",
    "\n",
    "    def fit(self, X, y=None):\n",
    "        return self\n",
    "\n",
    "    def transform(self, X):\n",
    "        assert isinstance(X, pd.DataFrame)\n",
    "        # print(\"Type Selector out shape {}\".format(X.select_dtypes(include=[self.dtype]).shape))\n",
    "        # print(X.select_dtypes(include=[self.dtype]).dtypes)\n",
    "        return X.select_dtypes(include=[self.dtype])\n"
   ]
  },
  {
   "cell_type": "code",
   "execution_count": 41,
   "metadata": {
    "ExecuteTime": {
     "end_time": "2020-07-05T15:07:35.886448Z",
     "start_time": "2020-07-05T15:07:34.591672Z"
    }
   },
   "outputs": [],
   "source": [
    "df = pd.read_csv('data/stackoverflow.csv')"
   ]
  },
  {
   "cell_type": "code",
   "execution_count": 69,
   "metadata": {
    "ExecuteTime": {
     "end_time": "2020-07-05T15:11:47.815859Z",
     "start_time": "2020-07-05T15:11:47.810808Z"
    }
   },
   "outputs": [],
   "source": [
    "df = df.sample(frac=0.1)"
   ]
  },
  {
   "cell_type": "code",
   "execution_count": 70,
   "metadata": {
    "ExecuteTime": {
     "end_time": "2020-07-05T15:11:48.252679Z",
     "start_time": "2020-07-05T15:11:48.246692Z"
    }
   },
   "outputs": [],
   "source": [
    "df = df[['Country','DevType','ConvertedSalary']]"
   ]
  },
  {
   "cell_type": "code",
   "execution_count": 71,
   "metadata": {
    "ExecuteTime": {
     "end_time": "2020-07-05T15:11:48.435259Z",
     "start_time": "2020-07-05T15:11:48.431801Z"
    }
   },
   "outputs": [],
   "source": [
    "cols_enc = ['Country','DevType']"
   ]
  },
  {
   "cell_type": "code",
   "execution_count": 174,
   "metadata": {
    "ExecuteTime": {
     "end_time": "2020-07-05T16:01:01.311289Z",
     "start_time": "2020-07-05T16:01:01.304882Z"
    }
   },
   "outputs": [],
   "source": [
    "def f(m, q):\n",
    "    out = np.zeros([len(m), len(q)])\n",
    "\n",
    "    for i in range(0, len(m)):\n",
    "        for j in range(0, len(q)):\n",
    "            # Elastic Net + percentile encoding\n",
    "            scaler = sklearn.preprocessing.StandardScaler()\n",
    "            clf = sklearn.linear_model.ElasticNet()\n",
    "            pe = sktools.QuantileEncoder(cols=cols_enc, quantile=0.50, m=0)\n",
    "\n",
    "            pipe = Pipeline([\n",
    "                (\"pe\", pe),\n",
    "                (\"selector\",\n",
    "                 TypeSelector(np.number)),  # Selects Numerical Columns only\n",
    "                (\"scaler\", scaler),\n",
    "                (\"clf\", clf),\n",
    "            ])\n",
    "\n",
    "            pipe_grid = {\n",
    "                \"pe__m\": [m[i]],\n",
    "                \"pe__quantile\": [q[j]],\n",
    "            }\n",
    "\n",
    "            pipe_cv = GridSearchCV(\n",
    "                pipe,\n",
    "                param_grid=pipe_grid,\n",
    "                n_jobs=-1,\n",
    "                cv=3,\n",
    "                scoring=\"neg_mean_absolute_error\",\n",
    "            )\n",
    "\n",
    "            pipe_cv.fit(df.drop(columns='ConvertedSalary'), df.ConvertedSalary)\n",
    "\n",
    "            out[i][j] = pipe_cv.cv_results_['mean_test_score']\n",
    "\n",
    "    return out"
   ]
  },
  {
   "cell_type": "code",
   "execution_count": 190,
   "metadata": {
    "ExecuteTime": {
     "end_time": "2020-07-05T16:45:10.784255Z",
     "start_time": "2020-07-05T16:36:57.637417Z"
    }
   },
   "outputs": [],
   "source": [
    "M = np.linspace(0, 10, 50)\n",
    "Q = np.linspace(0, 1, 50)\n",
    "Z = f(M, Q)\n",
    "M, Q = np.meshgrid(M, Q)"
   ]
  },
  {
   "cell_type": "code",
   "execution_count": 191,
   "metadata": {
    "ExecuteTime": {
     "end_time": "2020-07-05T16:45:11.101905Z",
     "start_time": "2020-07-05T16:45:10.787613Z"
    }
   },
   "outputs": [
    {
     "data": {
      "image/png": "[encoded data removed]",
      "text/plain": [
       "<Figure size 432x288 with 2 Axes>"
      ]
     },
     "metadata": {},
     "output_type": "display_data"
    }
   ],
   "source": [
    "plt.plot()\n",
    "cp = plt.contourf(M, Q, Z)\n",
    "plt.colorbar(cp)  #Add a colorbar to a plot\n",
    "plt.xlabel('M')\n",
    "plt.ylabel('Quantile')\n",
    "plt.title('MAE with different hyperparameters')\n",
    "plt.show()"
   ]
  },
  {
   "cell_type": "code",
   "execution_count": null,
   "metadata": {},
   "outputs": [],
   "source": []
  }
 ],
 "metadata": {
  "kernelspec": {
   "display_name": "Python 3",
   "language": "python",
   "name": "python3"
  },
  "language_info": {
   "codemirror_mode": {
    "name": "ipython",
    "version": 3
   },
   "file_extension": ".py",
   "mimetype": "text/x-python",
   "name": "python",
   "nbconvert_exporter": "python",
   "pygments_lexer": "ipython3",
   "version": "3.6.8"
  }
 },
 "nbformat": 4,
 "nbformat_minor": 2
}
